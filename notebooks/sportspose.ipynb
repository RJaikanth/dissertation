{
 "cells": [
  {
   "cell_type": "code",
   "execution_count": 21,
   "outputs": [
    {
     "name": "stderr",
     "output_type": "stream",
     "text": [
      "/home/rjaikanth97/mambaforge/envs/dissertation-dev/lib/python3.11/site-packages/ultralytics/nn/autobackend.py:106: TracerWarning: Converting a tensor to a Python integer might cause the trace to be incorrect. We can't record the data flow of Python values, so this value will be treated as a constant in the future. This means that the trace might not generalize to other inputs!\n",
      "  stride = max(int(model.stride.max()), 32)  # model stride\n",
      "\n",
      "/home/rjaikanth97/mambaforge/envs/dissertation-dev/lib/python3.11/site-packages/ultralytics/data/loaders.py:325: TracerWarning: Converting a tensor to a Python boolean might cause the trace to be incorrect. We can't record the data flow of Python values, so this value will be treated as a constant in the future. This means that the trace might not generalize to other inputs!\n",
      "  if im.shape[2] % stride or im.shape[3] % stride:\n",
      "/home/rjaikanth97/mambaforge/envs/dissertation-dev/lib/python3.11/site-packages/ultralytics/data/loaders.py:327: TracerWarning: Converting a tensor to a Python boolean might cause the trace to be incorrect. We can't record the data flow of Python values, so this value will be treated as a constant in the future. This means that the trace might not generalize to other inputs!\n",
      "  if im.max() > 1.0:\n",
      "/home/rjaikanth97/mambaforge/envs/dissertation-dev/lib/python3.11/site-packages/ultralytics/data/loaders.py:313: TracerWarning: Iterating over a tensor might cause the trace to be incorrect. Passing a tensor of different shape won't change the number of iterations executed (and might lead to errors or silently give incorrect results).\n",
      "  self.paths = [getattr(im, 'filename', f'image{i}.jpg') for i, im in enumerate(im0)]\n",
      "/home/rjaikanth97/mambaforge/envs/dissertation-dev/lib/python3.11/site-packages/ultralytics/nn/modules/head.py:50: TracerWarning: Converting a tensor to a Python boolean might cause the trace to be incorrect. We can't record the data flow of Python values, so this value will be treated as a constant in the future. This means that the trace might not generalize to other inputs!\n",
      "  elif self.dynamic or self.shape != shape:\n",
      "/home/rjaikanth97/mambaforge/envs/dissertation-dev/lib/python3.11/site-packages/ultralytics/utils/tal.py:251: TracerWarning: Iterating over a tensor might cause the trace to be incorrect. Passing a tensor of different shape won't change the number of iterations executed (and might lead to errors or silently give incorrect results).\n",
      "  for i, stride in enumerate(strides):\n",
      "/home/rjaikanth97/mambaforge/envs/dissertation-dev/lib/python3.11/site-packages/ultralytics/utils/ops.py:216: TracerWarning: Iterating over a tensor might cause the trace to be incorrect. Passing a tensor of different shape won't change the number of iterations executed (and might lead to errors or silently give incorrect results).\n",
      "  for xi, x in enumerate(prediction):  # image index, image inference\n",
      "/home/rjaikanth97/mambaforge/envs/dissertation-dev/lib/python3.11/site-packages/ultralytics/utils/ops.py:230: TracerWarning: Converting a tensor to a Python boolean might cause the trace to be incorrect. We can't record the data flow of Python values, so this value will be treated as a constant in the future. This means that the trace might not generalize to other inputs!\n",
      "  if not x.shape[0]:\n",
      "/home/rjaikanth97/mambaforge/envs/dissertation-dev/lib/python3.11/site-packages/ultralytics/utils/ops.py:113: TracerWarning: Converting a tensor to a Python boolean might cause the trace to be incorrect. We can't record the data flow of Python values, so this value will be treated as a constant in the future. This means that the trace might not generalize to other inputs!\n",
      "  gain = min(img1_shape[0] / img0_shape[0], img1_shape[1] / img0_shape[1])  # gain  = old / new\n"
     ]
    },
    {
     "ename": "TypeError",
     "evalue": "type Tensor doesn't define __round__ method",
     "output_type": "error",
     "traceback": [
      "\u001B[0;31m---------------------------------------------------------------------------\u001B[0m",
      "\u001B[0;31mTypeError\u001B[0m                                 Traceback (most recent call last)",
      "Cell \u001B[0;32mIn[21], line 32\u001B[0m\n\u001B[1;32m     28\u001B[0m         \u001B[38;5;28;01mreturn\u001B[39;00m model(x)\n\u001B[1;32m     31\u001B[0m model \u001B[38;5;241m=\u001B[39m nnModuleWrap()\n\u001B[0;32m---> 32\u001B[0m \u001B[43mwriter\u001B[49m\u001B[38;5;241;43m.\u001B[39;49m\u001B[43madd_graph\u001B[49m\u001B[43m(\u001B[49m\u001B[43mmodel\u001B[49m\u001B[43m,\u001B[49m\u001B[43m \u001B[49m\u001B[43mtorch\u001B[49m\u001B[38;5;241;43m.\u001B[39;49m\u001B[43mzeros\u001B[49m\u001B[43m(\u001B[49m\u001B[43m(\u001B[49m\u001B[38;5;241;43m1\u001B[39;49m\u001B[43m,\u001B[49m\u001B[43m \u001B[49m\u001B[38;5;241;43m3\u001B[39;49m\u001B[43m,\u001B[49m\u001B[43m \u001B[49m\u001B[38;5;241;43m640\u001B[39;49m\u001B[43m,\u001B[49m\u001B[43m \u001B[49m\u001B[38;5;241;43m640\u001B[39;49m\u001B[43m)\u001B[49m\u001B[43m)\u001B[49m\u001B[43m,\u001B[49m\u001B[43m \u001B[49m\u001B[43muse_strict_trace\u001B[49m\u001B[43m \u001B[49m\u001B[38;5;241;43m=\u001B[39;49m\u001B[43m \u001B[49m\u001B[38;5;28;43;01mFalse\u001B[39;49;00m\u001B[43m)\u001B[49m\n\u001B[1;32m     33\u001B[0m \u001B[38;5;66;03m# writer.add_graph(model_x, torch.zeros((1, 3, 640, 640)), use_strict_trace = False)\u001B[39;00m\n\u001B[1;32m     34\u001B[0m \u001B[38;5;66;03m#\u001B[39;00m\n\u001B[1;32m     35\u001B[0m \u001B[38;5;66;03m# writer.flush()\u001B[39;00m\n\u001B[1;32m     36\u001B[0m \u001B[38;5;66;03m# writer.close()\u001B[39;00m\n",
      "File \u001B[0;32m~/mambaforge/envs/dissertation-dev/lib/python3.11/site-packages/torch/utils/tensorboard/writer.py:841\u001B[0m, in \u001B[0;36mSummaryWriter.add_graph\u001B[0;34m(self, model, input_to_model, verbose, use_strict_trace)\u001B[0m\n\u001B[1;32m    837\u001B[0m torch\u001B[38;5;241m.\u001B[39m_C\u001B[38;5;241m.\u001B[39m_log_api_usage_once(\u001B[38;5;124m\"\u001B[39m\u001B[38;5;124mtensorboard.logging.add_graph\u001B[39m\u001B[38;5;124m\"\u001B[39m)\n\u001B[1;32m    838\u001B[0m \u001B[38;5;28;01mif\u001B[39;00m \u001B[38;5;28mhasattr\u001B[39m(model, \u001B[38;5;124m\"\u001B[39m\u001B[38;5;124mforward\u001B[39m\u001B[38;5;124m\"\u001B[39m):\n\u001B[1;32m    839\u001B[0m     \u001B[38;5;66;03m# A valid PyTorch model should have a 'forward' method\u001B[39;00m\n\u001B[1;32m    840\u001B[0m     \u001B[38;5;28mself\u001B[39m\u001B[38;5;241m.\u001B[39m_get_file_writer()\u001B[38;5;241m.\u001B[39madd_graph(\n\u001B[0;32m--> 841\u001B[0m         \u001B[43mgraph\u001B[49m\u001B[43m(\u001B[49m\u001B[43mmodel\u001B[49m\u001B[43m,\u001B[49m\u001B[43m \u001B[49m\u001B[43minput_to_model\u001B[49m\u001B[43m,\u001B[49m\u001B[43m \u001B[49m\u001B[43mverbose\u001B[49m\u001B[43m,\u001B[49m\u001B[43m \u001B[49m\u001B[43muse_strict_trace\u001B[49m\u001B[43m)\u001B[49m\n\u001B[1;32m    842\u001B[0m     )\n\u001B[1;32m    843\u001B[0m \u001B[38;5;28;01melse\u001B[39;00m:\n\u001B[1;32m    844\u001B[0m     \u001B[38;5;66;03m# Caffe2 models do not have the 'forward' method\u001B[39;00m\n\u001B[1;32m    845\u001B[0m     \u001B[38;5;28;01mfrom\u001B[39;00m \u001B[38;5;21;01mcaffe2\u001B[39;00m\u001B[38;5;21;01m.\u001B[39;00m\u001B[38;5;21;01mproto\u001B[39;00m \u001B[38;5;28;01mimport\u001B[39;00m caffe2_pb2\n",
      "File \u001B[0;32m~/mambaforge/envs/dissertation-dev/lib/python3.11/site-packages/torch/utils/tensorboard/_pytorch_graph.py:337\u001B[0m, in \u001B[0;36mgraph\u001B[0;34m(model, args, verbose, use_strict_trace)\u001B[0m\n\u001B[1;32m    335\u001B[0m \u001B[38;5;28;01mwith\u001B[39;00m _set_model_to_eval(model):\n\u001B[1;32m    336\u001B[0m     \u001B[38;5;28;01mtry\u001B[39;00m:\n\u001B[0;32m--> 337\u001B[0m         trace \u001B[38;5;241m=\u001B[39m \u001B[43mtorch\u001B[49m\u001B[38;5;241;43m.\u001B[39;49m\u001B[43mjit\u001B[49m\u001B[38;5;241;43m.\u001B[39;49m\u001B[43mtrace\u001B[49m\u001B[43m(\u001B[49m\u001B[43mmodel\u001B[49m\u001B[43m,\u001B[49m\u001B[43m \u001B[49m\u001B[43margs\u001B[49m\u001B[43m,\u001B[49m\u001B[43m \u001B[49m\u001B[43mstrict\u001B[49m\u001B[38;5;241;43m=\u001B[39;49m\u001B[43muse_strict_trace\u001B[49m\u001B[43m)\u001B[49m\n\u001B[1;32m    338\u001B[0m         graph \u001B[38;5;241m=\u001B[39m trace\u001B[38;5;241m.\u001B[39mgraph\n\u001B[1;32m    339\u001B[0m         torch\u001B[38;5;241m.\u001B[39m_C\u001B[38;5;241m.\u001B[39m_jit_pass_inline(graph)\n",
      "File \u001B[0;32m~/mambaforge/envs/dissertation-dev/lib/python3.11/site-packages/torch/jit/_trace.py:794\u001B[0m, in \u001B[0;36mtrace\u001B[0;34m(func, example_inputs, optimize, check_trace, check_inputs, check_tolerance, strict, _force_outplace, _module_class, _compilation_unit, example_kwarg_inputs, _store_inputs)\u001B[0m\n\u001B[1;32m    792\u001B[0m         \u001B[38;5;28;01melse\u001B[39;00m:\n\u001B[1;32m    793\u001B[0m             \u001B[38;5;28;01mraise\u001B[39;00m \u001B[38;5;167;01mRuntimeError\u001B[39;00m(\u001B[38;5;124m\"\u001B[39m\u001B[38;5;124mexample_kwarg_inputs should be a dict\u001B[39m\u001B[38;5;124m\"\u001B[39m)\n\u001B[0;32m--> 794\u001B[0m     \u001B[38;5;28;01mreturn\u001B[39;00m \u001B[43mtrace_module\u001B[49m\u001B[43m(\u001B[49m\n\u001B[1;32m    795\u001B[0m \u001B[43m        \u001B[49m\u001B[43mfunc\u001B[49m\u001B[43m,\u001B[49m\n\u001B[1;32m    796\u001B[0m \u001B[43m        \u001B[49m\u001B[43m{\u001B[49m\u001B[38;5;124;43m\"\u001B[39;49m\u001B[38;5;124;43mforward\u001B[39;49m\u001B[38;5;124;43m\"\u001B[39;49m\u001B[43m:\u001B[49m\u001B[43m \u001B[49m\u001B[43mexample_inputs\u001B[49m\u001B[43m}\u001B[49m\u001B[43m,\u001B[49m\n\u001B[1;32m    797\u001B[0m \u001B[43m        \u001B[49m\u001B[38;5;28;43;01mNone\u001B[39;49;00m\u001B[43m,\u001B[49m\n\u001B[1;32m    798\u001B[0m \u001B[43m        \u001B[49m\u001B[43mcheck_trace\u001B[49m\u001B[43m,\u001B[49m\n\u001B[1;32m    799\u001B[0m \u001B[43m        \u001B[49m\u001B[43mwrap_check_inputs\u001B[49m\u001B[43m(\u001B[49m\u001B[43mcheck_inputs\u001B[49m\u001B[43m)\u001B[49m\u001B[43m,\u001B[49m\n\u001B[1;32m    800\u001B[0m \u001B[43m        \u001B[49m\u001B[43mcheck_tolerance\u001B[49m\u001B[43m,\u001B[49m\n\u001B[1;32m    801\u001B[0m \u001B[43m        \u001B[49m\u001B[43mstrict\u001B[49m\u001B[43m,\u001B[49m\n\u001B[1;32m    802\u001B[0m \u001B[43m        \u001B[49m\u001B[43m_force_outplace\u001B[49m\u001B[43m,\u001B[49m\n\u001B[1;32m    803\u001B[0m \u001B[43m        \u001B[49m\u001B[43m_module_class\u001B[49m\u001B[43m,\u001B[49m\n\u001B[1;32m    804\u001B[0m \u001B[43m        \u001B[49m\u001B[43mexample_inputs_is_kwarg\u001B[49m\u001B[38;5;241;43m=\u001B[39;49m\u001B[38;5;28;43misinstance\u001B[39;49m\u001B[43m(\u001B[49m\u001B[43mexample_kwarg_inputs\u001B[49m\u001B[43m,\u001B[49m\u001B[43m \u001B[49m\u001B[38;5;28;43mdict\u001B[39;49m\u001B[43m)\u001B[49m\u001B[43m,\u001B[49m\n\u001B[1;32m    805\u001B[0m \u001B[43m        \u001B[49m\u001B[43m_store_inputs\u001B[49m\u001B[38;5;241;43m=\u001B[39;49m\u001B[43m_store_inputs\u001B[49m\n\u001B[1;32m    806\u001B[0m \u001B[43m    \u001B[49m\u001B[43m)\u001B[49m\n\u001B[1;32m    807\u001B[0m \u001B[38;5;28;01mif\u001B[39;00m (\n\u001B[1;32m    808\u001B[0m     \u001B[38;5;28mhasattr\u001B[39m(func, \u001B[38;5;124m\"\u001B[39m\u001B[38;5;124m__self__\u001B[39m\u001B[38;5;124m\"\u001B[39m)\n\u001B[1;32m    809\u001B[0m     \u001B[38;5;129;01mand\u001B[39;00m \u001B[38;5;28misinstance\u001B[39m(func\u001B[38;5;241m.\u001B[39m\u001B[38;5;18m__self__\u001B[39m, torch\u001B[38;5;241m.\u001B[39mnn\u001B[38;5;241m.\u001B[39mModule)\n\u001B[1;32m    810\u001B[0m     \u001B[38;5;129;01mand\u001B[39;00m func\u001B[38;5;241m.\u001B[39m\u001B[38;5;18m__name__\u001B[39m \u001B[38;5;241m==\u001B[39m \u001B[38;5;124m\"\u001B[39m\u001B[38;5;124mforward\u001B[39m\u001B[38;5;124m\"\u001B[39m\n\u001B[1;32m    811\u001B[0m ):\n\u001B[1;32m    812\u001B[0m     \u001B[38;5;28;01mif\u001B[39;00m example_inputs \u001B[38;5;129;01mis\u001B[39;00m \u001B[38;5;28;01mNone\u001B[39;00m:\n",
      "File \u001B[0;32m~/mambaforge/envs/dissertation-dev/lib/python3.11/site-packages/torch/jit/_trace.py:1056\u001B[0m, in \u001B[0;36mtrace_module\u001B[0;34m(mod, inputs, optimize, check_trace, check_inputs, check_tolerance, strict, _force_outplace, _module_class, _compilation_unit, example_inputs_is_kwarg, _store_inputs)\u001B[0m\n\u001B[1;32m   1054\u001B[0m \u001B[38;5;28;01melse\u001B[39;00m:\n\u001B[1;32m   1055\u001B[0m     example_inputs \u001B[38;5;241m=\u001B[39m make_tuple(example_inputs)\n\u001B[0;32m-> 1056\u001B[0m     \u001B[43mmodule\u001B[49m\u001B[38;5;241;43m.\u001B[39;49m\u001B[43m_c\u001B[49m\u001B[38;5;241;43m.\u001B[39;49m\u001B[43m_create_method_from_trace\u001B[49m\u001B[43m(\u001B[49m\n\u001B[1;32m   1057\u001B[0m \u001B[43m        \u001B[49m\u001B[43mmethod_name\u001B[49m\u001B[43m,\u001B[49m\n\u001B[1;32m   1058\u001B[0m \u001B[43m        \u001B[49m\u001B[43mfunc\u001B[49m\u001B[43m,\u001B[49m\n\u001B[1;32m   1059\u001B[0m \u001B[43m        \u001B[49m\u001B[43mexample_inputs\u001B[49m\u001B[43m,\u001B[49m\n\u001B[1;32m   1060\u001B[0m \u001B[43m        \u001B[49m\u001B[43mvar_lookup_fn\u001B[49m\u001B[43m,\u001B[49m\n\u001B[1;32m   1061\u001B[0m \u001B[43m        \u001B[49m\u001B[43mstrict\u001B[49m\u001B[43m,\u001B[49m\n\u001B[1;32m   1062\u001B[0m \u001B[43m        \u001B[49m\u001B[43m_force_outplace\u001B[49m\u001B[43m,\u001B[49m\n\u001B[1;32m   1063\u001B[0m \u001B[43m        \u001B[49m\u001B[43margument_names\u001B[49m\u001B[43m,\u001B[49m\n\u001B[1;32m   1064\u001B[0m \u001B[43m        \u001B[49m\u001B[43m_store_inputs\u001B[49m\n\u001B[1;32m   1065\u001B[0m \u001B[43m    \u001B[49m\u001B[43m)\u001B[49m\n\u001B[1;32m   1067\u001B[0m check_trace_method \u001B[38;5;241m=\u001B[39m module\u001B[38;5;241m.\u001B[39m_c\u001B[38;5;241m.\u001B[39m_get_method(method_name)\n\u001B[1;32m   1069\u001B[0m \u001B[38;5;66;03m# Check the trace against new traces created from user-specified inputs\u001B[39;00m\n",
      "File \u001B[0;32m~/mambaforge/envs/dissertation-dev/lib/python3.11/site-packages/torch/nn/modules/module.py:1501\u001B[0m, in \u001B[0;36mModule._call_impl\u001B[0;34m(self, *args, **kwargs)\u001B[0m\n\u001B[1;32m   1496\u001B[0m \u001B[38;5;66;03m# If we don't have any hooks, we want to skip the rest of the logic in\u001B[39;00m\n\u001B[1;32m   1497\u001B[0m \u001B[38;5;66;03m# this function, and just call forward.\u001B[39;00m\n\u001B[1;32m   1498\u001B[0m \u001B[38;5;28;01mif\u001B[39;00m \u001B[38;5;129;01mnot\u001B[39;00m (\u001B[38;5;28mself\u001B[39m\u001B[38;5;241m.\u001B[39m_backward_hooks \u001B[38;5;129;01mor\u001B[39;00m \u001B[38;5;28mself\u001B[39m\u001B[38;5;241m.\u001B[39m_backward_pre_hooks \u001B[38;5;129;01mor\u001B[39;00m \u001B[38;5;28mself\u001B[39m\u001B[38;5;241m.\u001B[39m_forward_hooks \u001B[38;5;129;01mor\u001B[39;00m \u001B[38;5;28mself\u001B[39m\u001B[38;5;241m.\u001B[39m_forward_pre_hooks\n\u001B[1;32m   1499\u001B[0m         \u001B[38;5;129;01mor\u001B[39;00m _global_backward_pre_hooks \u001B[38;5;129;01mor\u001B[39;00m _global_backward_hooks\n\u001B[1;32m   1500\u001B[0m         \u001B[38;5;129;01mor\u001B[39;00m _global_forward_hooks \u001B[38;5;129;01mor\u001B[39;00m _global_forward_pre_hooks):\n\u001B[0;32m-> 1501\u001B[0m     \u001B[38;5;28;01mreturn\u001B[39;00m \u001B[43mforward_call\u001B[49m\u001B[43m(\u001B[49m\u001B[38;5;241;43m*\u001B[39;49m\u001B[43margs\u001B[49m\u001B[43m,\u001B[49m\u001B[43m \u001B[49m\u001B[38;5;241;43m*\u001B[39;49m\u001B[38;5;241;43m*\u001B[39;49m\u001B[43mkwargs\u001B[49m\u001B[43m)\u001B[49m\n\u001B[1;32m   1502\u001B[0m \u001B[38;5;66;03m# Do not call functions when jit is used\u001B[39;00m\n\u001B[1;32m   1503\u001B[0m full_backward_hooks, non_full_backward_hooks \u001B[38;5;241m=\u001B[39m [], []\n",
      "File \u001B[0;32m~/mambaforge/envs/dissertation-dev/lib/python3.11/site-packages/torch/nn/modules/module.py:1488\u001B[0m, in \u001B[0;36mModule._slow_forward\u001B[0;34m(self, *input, **kwargs)\u001B[0m\n\u001B[1;32m   1486\u001B[0m         recording_scopes \u001B[38;5;241m=\u001B[39m \u001B[38;5;28;01mFalse\u001B[39;00m\n\u001B[1;32m   1487\u001B[0m \u001B[38;5;28;01mtry\u001B[39;00m:\n\u001B[0;32m-> 1488\u001B[0m     result \u001B[38;5;241m=\u001B[39m \u001B[38;5;28;43mself\u001B[39;49m\u001B[38;5;241;43m.\u001B[39;49m\u001B[43mforward\u001B[49m\u001B[43m(\u001B[49m\u001B[38;5;241;43m*\u001B[39;49m\u001B[38;5;28;43minput\u001B[39;49m\u001B[43m,\u001B[49m\u001B[43m \u001B[49m\u001B[38;5;241;43m*\u001B[39;49m\u001B[38;5;241;43m*\u001B[39;49m\u001B[43mkwargs\u001B[49m\u001B[43m)\u001B[49m\n\u001B[1;32m   1489\u001B[0m \u001B[38;5;28;01mfinally\u001B[39;00m:\n\u001B[1;32m   1490\u001B[0m     \u001B[38;5;28;01mif\u001B[39;00m recording_scopes:\n",
      "Cell \u001B[0;32mIn[21], line 28\u001B[0m, in \u001B[0;36mnnModuleWrap.forward\u001B[0;34m(self, x)\u001B[0m\n\u001B[1;32m     26\u001B[0m x \u001B[38;5;241m=\u001B[39m torch\u001B[38;5;241m.\u001B[39mrand((\u001B[38;5;241m1\u001B[39m, \u001B[38;5;241m3\u001B[39m, \u001B[38;5;241m640\u001B[39m, \u001B[38;5;241m6400\u001B[39m), dtype\u001B[38;5;241m=\u001B[39mtorch\u001B[38;5;241m.\u001B[39mfloat32)\n\u001B[1;32m     27\u001B[0m model \u001B[38;5;241m=\u001B[39m YOLO(\u001B[38;5;124m\"\u001B[39m\u001B[38;5;124m../models/pose/yolov8n-pose.pt\u001B[39m\u001B[38;5;124m\"\u001B[39m)\n\u001B[0;32m---> 28\u001B[0m \u001B[38;5;28;01mreturn\u001B[39;00m \u001B[43mmodel\u001B[49m\u001B[43m(\u001B[49m\u001B[43mx\u001B[49m\u001B[43m)\u001B[49m\n",
      "File \u001B[0;32m~/mambaforge/envs/dissertation-dev/lib/python3.11/site-packages/ultralytics/engine/model.py:110\u001B[0m, in \u001B[0;36mYOLO.__call__\u001B[0;34m(self, source, stream, **kwargs)\u001B[0m\n\u001B[1;32m    108\u001B[0m \u001B[38;5;28;01mdef\u001B[39;00m \u001B[38;5;21m__call__\u001B[39m(\u001B[38;5;28mself\u001B[39m, source\u001B[38;5;241m=\u001B[39m\u001B[38;5;28;01mNone\u001B[39;00m, stream\u001B[38;5;241m=\u001B[39m\u001B[38;5;28;01mFalse\u001B[39;00m, \u001B[38;5;241m*\u001B[39m\u001B[38;5;241m*\u001B[39mkwargs):\n\u001B[1;32m    109\u001B[0m \u001B[38;5;250m    \u001B[39m\u001B[38;5;124;03m\"\"\"Calls the 'predict' function with given arguments to perform object detection.\"\"\"\u001B[39;00m\n\u001B[0;32m--> 110\u001B[0m     \u001B[38;5;28;01mreturn\u001B[39;00m \u001B[38;5;28;43mself\u001B[39;49m\u001B[38;5;241;43m.\u001B[39;49m\u001B[43mpredict\u001B[49m\u001B[43m(\u001B[49m\u001B[43msource\u001B[49m\u001B[43m,\u001B[49m\u001B[43m \u001B[49m\u001B[43mstream\u001B[49m\u001B[43m,\u001B[49m\u001B[43m \u001B[49m\u001B[38;5;241;43m*\u001B[39;49m\u001B[38;5;241;43m*\u001B[39;49m\u001B[43mkwargs\u001B[49m\u001B[43m)\u001B[49m\n",
      "File \u001B[0;32m~/mambaforge/envs/dissertation-dev/lib/python3.11/site-packages/torch/utils/_contextlib.py:115\u001B[0m, in \u001B[0;36mcontext_decorator.<locals>.decorate_context\u001B[0;34m(*args, **kwargs)\u001B[0m\n\u001B[1;32m    112\u001B[0m \u001B[38;5;129m@functools\u001B[39m\u001B[38;5;241m.\u001B[39mwraps(func)\n\u001B[1;32m    113\u001B[0m \u001B[38;5;28;01mdef\u001B[39;00m \u001B[38;5;21mdecorate_context\u001B[39m(\u001B[38;5;241m*\u001B[39margs, \u001B[38;5;241m*\u001B[39m\u001B[38;5;241m*\u001B[39mkwargs):\n\u001B[1;32m    114\u001B[0m     \u001B[38;5;28;01mwith\u001B[39;00m ctx_factory():\n\u001B[0;32m--> 115\u001B[0m         \u001B[38;5;28;01mreturn\u001B[39;00m \u001B[43mfunc\u001B[49m\u001B[43m(\u001B[49m\u001B[38;5;241;43m*\u001B[39;49m\u001B[43margs\u001B[49m\u001B[43m,\u001B[49m\u001B[43m \u001B[49m\u001B[38;5;241;43m*\u001B[39;49m\u001B[38;5;241;43m*\u001B[39;49m\u001B[43mkwargs\u001B[49m\u001B[43m)\u001B[49m\n",
      "File \u001B[0;32m~/mambaforge/envs/dissertation-dev/lib/python3.11/site-packages/ultralytics/engine/model.py:254\u001B[0m, in \u001B[0;36mYOLO.predict\u001B[0;34m(self, source, stream, **kwargs)\u001B[0m\n\u001B[1;32m    252\u001B[0m     \u001B[38;5;28;01mif\u001B[39;00m \u001B[38;5;124m'\u001B[39m\u001B[38;5;124mproject\u001B[39m\u001B[38;5;124m'\u001B[39m \u001B[38;5;129;01min\u001B[39;00m overrides \u001B[38;5;129;01mor\u001B[39;00m \u001B[38;5;124m'\u001B[39m\u001B[38;5;124mname\u001B[39m\u001B[38;5;124m'\u001B[39m \u001B[38;5;129;01min\u001B[39;00m overrides:\n\u001B[1;32m    253\u001B[0m         \u001B[38;5;28mself\u001B[39m\u001B[38;5;241m.\u001B[39mpredictor\u001B[38;5;241m.\u001B[39msave_dir \u001B[38;5;241m=\u001B[39m \u001B[38;5;28mself\u001B[39m\u001B[38;5;241m.\u001B[39mpredictor\u001B[38;5;241m.\u001B[39mget_save_dir()\n\u001B[0;32m--> 254\u001B[0m \u001B[38;5;28;01mreturn\u001B[39;00m \u001B[38;5;28mself\u001B[39m\u001B[38;5;241m.\u001B[39mpredictor\u001B[38;5;241m.\u001B[39mpredict_cli(source\u001B[38;5;241m=\u001B[39msource) \u001B[38;5;28;01mif\u001B[39;00m is_cli \u001B[38;5;28;01melse\u001B[39;00m \u001B[38;5;28;43mself\u001B[39;49m\u001B[38;5;241;43m.\u001B[39;49m\u001B[43mpredictor\u001B[49m\u001B[43m(\u001B[49m\u001B[43msource\u001B[49m\u001B[38;5;241;43m=\u001B[39;49m\u001B[43msource\u001B[49m\u001B[43m,\u001B[49m\u001B[43m \u001B[49m\u001B[43mstream\u001B[49m\u001B[38;5;241;43m=\u001B[39;49m\u001B[43mstream\u001B[49m\u001B[43m)\u001B[49m\n",
      "File \u001B[0;32m~/mambaforge/envs/dissertation-dev/lib/python3.11/site-packages/ultralytics/engine/predictor.py:195\u001B[0m, in \u001B[0;36mBasePredictor.__call__\u001B[0;34m(self, source, model, stream, *args, **kwargs)\u001B[0m\n\u001B[1;32m    193\u001B[0m     \u001B[38;5;28;01mreturn\u001B[39;00m \u001B[38;5;28mself\u001B[39m\u001B[38;5;241m.\u001B[39mstream_inference(source, model, \u001B[38;5;241m*\u001B[39margs, \u001B[38;5;241m*\u001B[39m\u001B[38;5;241m*\u001B[39mkwargs)\n\u001B[1;32m    194\u001B[0m \u001B[38;5;28;01melse\u001B[39;00m:\n\u001B[0;32m--> 195\u001B[0m     \u001B[38;5;28;01mreturn\u001B[39;00m \u001B[38;5;28;43mlist\u001B[39;49m\u001B[43m(\u001B[49m\u001B[38;5;28;43mself\u001B[39;49m\u001B[38;5;241;43m.\u001B[39;49m\u001B[43mstream_inference\u001B[49m\u001B[43m(\u001B[49m\u001B[43msource\u001B[49m\u001B[43m,\u001B[49m\u001B[43m \u001B[49m\u001B[43mmodel\u001B[49m\u001B[43m,\u001B[49m\u001B[43m \u001B[49m\u001B[38;5;241;43m*\u001B[39;49m\u001B[43margs\u001B[49m\u001B[43m,\u001B[49m\u001B[43m \u001B[49m\u001B[38;5;241;43m*\u001B[39;49m\u001B[38;5;241;43m*\u001B[39;49m\u001B[43mkwargs\u001B[49m\u001B[43m)\u001B[49m\u001B[43m)\u001B[49m\n",
      "File \u001B[0;32m~/mambaforge/envs/dissertation-dev/lib/python3.11/site-packages/torch/utils/_contextlib.py:35\u001B[0m, in \u001B[0;36m_wrap_generator.<locals>.generator_context\u001B[0;34m(*args, **kwargs)\u001B[0m\n\u001B[1;32m     32\u001B[0m \u001B[38;5;28;01mtry\u001B[39;00m:\n\u001B[1;32m     33\u001B[0m     \u001B[38;5;66;03m# Issuing `None` to a generator fires it up\u001B[39;00m\n\u001B[1;32m     34\u001B[0m     \u001B[38;5;28;01mwith\u001B[39;00m ctx_factory():\n\u001B[0;32m---> 35\u001B[0m         response \u001B[38;5;241m=\u001B[39m \u001B[43mgen\u001B[49m\u001B[38;5;241;43m.\u001B[39;49m\u001B[43msend\u001B[49m\u001B[43m(\u001B[49m\u001B[38;5;28;43;01mNone\u001B[39;49;00m\u001B[43m)\u001B[49m\n\u001B[1;32m     37\u001B[0m     \u001B[38;5;28;01mwhile\u001B[39;00m \u001B[38;5;28;01mTrue\u001B[39;00m:\n\u001B[1;32m     38\u001B[0m         \u001B[38;5;28;01mtry\u001B[39;00m:\n\u001B[1;32m     39\u001B[0m             \u001B[38;5;66;03m# Forward the response to our caller and get its next request\u001B[39;00m\n",
      "File \u001B[0;32m~/mambaforge/envs/dissertation-dev/lib/python3.11/site-packages/ultralytics/engine/predictor.py:255\u001B[0m, in \u001B[0;36mBasePredictor.stream_inference\u001B[0;34m(self, source, model, *args, **kwargs)\u001B[0m\n\u001B[1;32m    253\u001B[0m \u001B[38;5;66;03m# Postprocess\u001B[39;00m\n\u001B[1;32m    254\u001B[0m \u001B[38;5;28;01mwith\u001B[39;00m profilers[\u001B[38;5;241m2\u001B[39m]:\n\u001B[0;32m--> 255\u001B[0m     \u001B[38;5;28mself\u001B[39m\u001B[38;5;241m.\u001B[39mresults \u001B[38;5;241m=\u001B[39m \u001B[38;5;28;43mself\u001B[39;49m\u001B[38;5;241;43m.\u001B[39;49m\u001B[43mpostprocess\u001B[49m\u001B[43m(\u001B[49m\u001B[43mpreds\u001B[49m\u001B[43m,\u001B[49m\u001B[43m \u001B[49m\u001B[43mim\u001B[49m\u001B[43m,\u001B[49m\u001B[43m \u001B[49m\u001B[43mim0s\u001B[49m\u001B[43m)\u001B[49m\n\u001B[1;32m    256\u001B[0m \u001B[38;5;28mself\u001B[39m\u001B[38;5;241m.\u001B[39mrun_callbacks(\u001B[38;5;124m'\u001B[39m\u001B[38;5;124mon_predict_postprocess_end\u001B[39m\u001B[38;5;124m'\u001B[39m)\n\u001B[1;32m    258\u001B[0m \u001B[38;5;66;03m# Visualize, save, write results\u001B[39;00m\n",
      "File \u001B[0;32m~/mambaforge/envs/dissertation-dev/lib/python3.11/site-packages/ultralytics/models/yolo/pose/predict.py:28\u001B[0m, in \u001B[0;36mPosePredictor.postprocess\u001B[0;34m(self, preds, img, orig_imgs)\u001B[0m\n\u001B[1;32m     26\u001B[0m orig_img \u001B[38;5;241m=\u001B[39m orig_imgs[i] \u001B[38;5;28;01mif\u001B[39;00m \u001B[38;5;28misinstance\u001B[39m(orig_imgs, \u001B[38;5;28mlist\u001B[39m) \u001B[38;5;28;01melse\u001B[39;00m orig_imgs\n\u001B[1;32m     27\u001B[0m shape \u001B[38;5;241m=\u001B[39m orig_img\u001B[38;5;241m.\u001B[39mshape\n\u001B[0;32m---> 28\u001B[0m pred[:, :\u001B[38;5;241m4\u001B[39m] \u001B[38;5;241m=\u001B[39m \u001B[43mops\u001B[49m\u001B[38;5;241;43m.\u001B[39;49m\u001B[43mscale_boxes\u001B[49m\u001B[43m(\u001B[49m\u001B[43mimg\u001B[49m\u001B[38;5;241;43m.\u001B[39;49m\u001B[43mshape\u001B[49m\u001B[43m[\u001B[49m\u001B[38;5;241;43m2\u001B[39;49m\u001B[43m:\u001B[49m\u001B[43m]\u001B[49m\u001B[43m,\u001B[49m\u001B[43m \u001B[49m\u001B[43mpred\u001B[49m\u001B[43m[\u001B[49m\u001B[43m:\u001B[49m\u001B[43m,\u001B[49m\u001B[43m \u001B[49m\u001B[43m:\u001B[49m\u001B[38;5;241;43m4\u001B[39;49m\u001B[43m]\u001B[49m\u001B[43m,\u001B[49m\u001B[43m \u001B[49m\u001B[43mshape\u001B[49m\u001B[43m)\u001B[49m\u001B[38;5;241m.\u001B[39mround()\n\u001B[1;32m     29\u001B[0m pred_kpts \u001B[38;5;241m=\u001B[39m pred[:, \u001B[38;5;241m6\u001B[39m:]\u001B[38;5;241m.\u001B[39mview(\u001B[38;5;28mlen\u001B[39m(pred), \u001B[38;5;241m*\u001B[39m\u001B[38;5;28mself\u001B[39m\u001B[38;5;241m.\u001B[39mmodel\u001B[38;5;241m.\u001B[39mkpt_shape) \u001B[38;5;28;01mif\u001B[39;00m \u001B[38;5;28mlen\u001B[39m(pred) \u001B[38;5;28;01melse\u001B[39;00m pred[:, \u001B[38;5;241m6\u001B[39m:]\n\u001B[1;32m     30\u001B[0m pred_kpts \u001B[38;5;241m=\u001B[39m ops\u001B[38;5;241m.\u001B[39mscale_coords(img\u001B[38;5;241m.\u001B[39mshape[\u001B[38;5;241m2\u001B[39m:], pred_kpts, shape)\n",
      "File \u001B[0;32m~/mambaforge/envs/dissertation-dev/lib/python3.11/site-packages/ultralytics/utils/ops.py:114\u001B[0m, in \u001B[0;36mscale_boxes\u001B[0;34m(img1_shape, boxes, img0_shape, ratio_pad, padding)\u001B[0m\n\u001B[1;32m    112\u001B[0m \u001B[38;5;28;01mif\u001B[39;00m ratio_pad \u001B[38;5;129;01mis\u001B[39;00m \u001B[38;5;28;01mNone\u001B[39;00m:  \u001B[38;5;66;03m# calculate from img0_shape\u001B[39;00m\n\u001B[1;32m    113\u001B[0m     gain \u001B[38;5;241m=\u001B[39m \u001B[38;5;28mmin\u001B[39m(img1_shape[\u001B[38;5;241m0\u001B[39m] \u001B[38;5;241m/\u001B[39m img0_shape[\u001B[38;5;241m0\u001B[39m], img1_shape[\u001B[38;5;241m1\u001B[39m] \u001B[38;5;241m/\u001B[39m img0_shape[\u001B[38;5;241m1\u001B[39m])  \u001B[38;5;66;03m# gain  = old / new\u001B[39;00m\n\u001B[0;32m--> 114\u001B[0m     pad \u001B[38;5;241m=\u001B[39m \u001B[38;5;28;43mround\u001B[39;49m\u001B[43m(\u001B[49m\u001B[43m(\u001B[49m\u001B[43mimg1_shape\u001B[49m\u001B[43m[\u001B[49m\u001B[38;5;241;43m1\u001B[39;49m\u001B[43m]\u001B[49m\u001B[43m \u001B[49m\u001B[38;5;241;43m-\u001B[39;49m\u001B[43m \u001B[49m\u001B[43mimg0_shape\u001B[49m\u001B[43m[\u001B[49m\u001B[38;5;241;43m1\u001B[39;49m\u001B[43m]\u001B[49m\u001B[43m \u001B[49m\u001B[38;5;241;43m*\u001B[39;49m\u001B[43m \u001B[49m\u001B[43mgain\u001B[49m\u001B[43m)\u001B[49m\u001B[43m \u001B[49m\u001B[38;5;241;43m/\u001B[39;49m\u001B[43m \u001B[49m\u001B[38;5;241;43m2\u001B[39;49m\u001B[43m \u001B[49m\u001B[38;5;241;43m-\u001B[39;49m\u001B[43m \u001B[49m\u001B[38;5;241;43m0.1\u001B[39;49m\u001B[43m)\u001B[49m, \u001B[38;5;28mround\u001B[39m(\n\u001B[1;32m    115\u001B[0m         (img1_shape[\u001B[38;5;241m0\u001B[39m] \u001B[38;5;241m-\u001B[39m img0_shape[\u001B[38;5;241m0\u001B[39m] \u001B[38;5;241m*\u001B[39m gain) \u001B[38;5;241m/\u001B[39m \u001B[38;5;241m2\u001B[39m \u001B[38;5;241m-\u001B[39m \u001B[38;5;241m0.1\u001B[39m)  \u001B[38;5;66;03m# wh padding\u001B[39;00m\n\u001B[1;32m    116\u001B[0m \u001B[38;5;28;01melse\u001B[39;00m:\n\u001B[1;32m    117\u001B[0m     gain \u001B[38;5;241m=\u001B[39m ratio_pad[\u001B[38;5;241m0\u001B[39m][\u001B[38;5;241m0\u001B[39m]\n",
      "\u001B[0;31mTypeError\u001B[0m: type Tensor doesn't define __round__ method"
     ]
    }
   ],
   "source": [
    "import torch\n",
    "import torch.nn as nn\n",
    "from ultralytics import YOLO\n",
    "from torch.utils.tensorboard import SummaryWriter\n",
    "from torchinfo import summary\n",
    "\n",
    "\n",
    "writer = SummaryWriter(\"./runs/arch_diagrams\")\n",
    "model_n = YOLO(\"../models/pose/yolov8n-pose.pt\").model\n",
    "# model_x = YOLO(\"../models/pose/yolov8x-pose.pt\").model\n",
    "\n",
    "# model_x.eval()\n",
    "# x = torch.rand((1, 3, 640, 6400), dtype=torch.float32)\n",
    "\n",
    "\n",
    "# col_names = [\"input_size\", \"output_size\", \"num_params\", \"kernel_size\",\"trainable\"]\n",
    "# model_n.eval()\n",
    "# summary(model_n, input_size = (32, 3, 640, 640), col_names = col_names, depth = 100)\n",
    "\n",
    "\n",
    "class nnModuleWrap(nn.Module):\n",
    "    def __init__(self):\n",
    "        super().__init__()\n",
    "\n",
    "    def forward(self, x):\n",
    "        x = torch.rand((1, 3, 640, 6400), dtype=torch.float32)\n",
    "        model = YOLO(\"../models/pose/yolov8n-pose.pt\")\n",
    "        return model(x)\n",
    "\n",
    "\n",
    "model = nnModuleWrap()\n",
    "writer.add_graph(model, torch.zeros((1, 3, 640, 640)), use_strict_trace = False)\n",
    "# writer.add_graph(model_x, torch.zeros((1, 3, 640, 640)), use_strict_trace = False)\n",
    "#\n",
    "# writer.flush()\n",
    "# writer.close()\n",
    "\n",
    "\n",
    "\n",
    "\n"
   ],
   "metadata": {
    "collapsed": false
   }
  },
  {
   "cell_type": "code",
   "execution_count": 11,
   "outputs": [
    {
     "ename": "TypeError",
     "evalue": "object of type 'int' has no len()",
     "output_type": "error",
     "traceback": [
      "\u001B[0;31m---------------------------------------------------------------------------\u001B[0m",
      "\u001B[0;31mTypeError\u001B[0m                                 Traceback (most recent call last)",
      "Cell \u001B[0;32mIn[11], line 5\u001B[0m\n\u001B[1;32m      1\u001B[0m \u001B[38;5;28;01mfrom\u001B[39;00m \u001B[38;5;21;01multralytics\u001B[39;00m\u001B[38;5;21;01m.\u001B[39;00m\u001B[38;5;21;01mnn\u001B[39;00m\u001B[38;5;21;01m.\u001B[39;00m\u001B[38;5;21;01mmodules\u001B[39;00m\u001B[38;5;21;01m.\u001B[39;00m\u001B[38;5;21;01mhead\u001B[39;00m \u001B[38;5;28;01mimport\u001B[39;00m Pose\n\u001B[1;32m      2\u001B[0m \u001B[38;5;28;01mfrom\u001B[39;00m \u001B[38;5;21;01mtorchinfo\u001B[39;00m \u001B[38;5;28;01mimport\u001B[39;00m summary\n\u001B[0;32m----> 5\u001B[0m model \u001B[38;5;241m=\u001B[39m \u001B[43mPose\u001B[49m\u001B[43m(\u001B[49m\u001B[43mch\u001B[49m\u001B[38;5;241;43m=\u001B[39;49m\u001B[43m(\u001B[49m\u001B[38;5;241;43m64\u001B[39;49m\u001B[43m)\u001B[49m\u001B[43m)\u001B[49m\n\u001B[1;32m      6\u001B[0m summary(model)\n",
      "File \u001B[0;32m~/mambaforge/envs/dissertation-dev/lib/python3.11/site-packages/ultralytics/nn/modules/head.py:115\u001B[0m, in \u001B[0;36mPose.__init__\u001B[0;34m(self, nc, kpt_shape, ch)\u001B[0m\n\u001B[1;32m    113\u001B[0m \u001B[38;5;28;01mdef\u001B[39;00m \u001B[38;5;21m__init__\u001B[39m(\u001B[38;5;28mself\u001B[39m, nc\u001B[38;5;241m=\u001B[39m\u001B[38;5;241m80\u001B[39m, kpt_shape\u001B[38;5;241m=\u001B[39m(\u001B[38;5;241m17\u001B[39m, \u001B[38;5;241m3\u001B[39m), ch\u001B[38;5;241m=\u001B[39m()):\n\u001B[1;32m    114\u001B[0m \u001B[38;5;250m    \u001B[39m\u001B[38;5;124;03m\"\"\"Initialize YOLO network with default parameters and Convolutional Layers.\"\"\"\u001B[39;00m\n\u001B[0;32m--> 115\u001B[0m     \u001B[38;5;28;43msuper\u001B[39;49m\u001B[43m(\u001B[49m\u001B[43m)\u001B[49m\u001B[38;5;241;43m.\u001B[39;49m\u001B[38;5;21;43m__init__\u001B[39;49m\u001B[43m(\u001B[49m\u001B[43mnc\u001B[49m\u001B[43m,\u001B[49m\u001B[43m \u001B[49m\u001B[43mch\u001B[49m\u001B[43m)\u001B[49m\n\u001B[1;32m    116\u001B[0m     \u001B[38;5;28mself\u001B[39m\u001B[38;5;241m.\u001B[39mkpt_shape \u001B[38;5;241m=\u001B[39m kpt_shape  \u001B[38;5;66;03m# number of keypoints, number of dims (2 for x,y or 3 for x,y,visible)\u001B[39;00m\n\u001B[1;32m    117\u001B[0m     \u001B[38;5;28mself\u001B[39m\u001B[38;5;241m.\u001B[39mnk \u001B[38;5;241m=\u001B[39m kpt_shape[\u001B[38;5;241m0\u001B[39m] \u001B[38;5;241m*\u001B[39m kpt_shape[\u001B[38;5;241m1\u001B[39m]  \u001B[38;5;66;03m# number of keypoints total\u001B[39;00m\n",
      "File \u001B[0;32m~/mambaforge/envs/dissertation-dev/lib/python3.11/site-packages/ultralytics/nn/modules/head.py:33\u001B[0m, in \u001B[0;36mDetect.__init__\u001B[0;34m(self, nc, ch)\u001B[0m\n\u001B[1;32m     31\u001B[0m \u001B[38;5;28msuper\u001B[39m()\u001B[38;5;241m.\u001B[39m\u001B[38;5;21m__init__\u001B[39m()\n\u001B[1;32m     32\u001B[0m \u001B[38;5;28mself\u001B[39m\u001B[38;5;241m.\u001B[39mnc \u001B[38;5;241m=\u001B[39m nc  \u001B[38;5;66;03m# number of classes\u001B[39;00m\n\u001B[0;32m---> 33\u001B[0m \u001B[38;5;28mself\u001B[39m\u001B[38;5;241m.\u001B[39mnl \u001B[38;5;241m=\u001B[39m \u001B[38;5;28;43mlen\u001B[39;49m\u001B[43m(\u001B[49m\u001B[43mch\u001B[49m\u001B[43m)\u001B[49m  \u001B[38;5;66;03m# number of detection layers\u001B[39;00m\n\u001B[1;32m     34\u001B[0m \u001B[38;5;28mself\u001B[39m\u001B[38;5;241m.\u001B[39mreg_max \u001B[38;5;241m=\u001B[39m \u001B[38;5;241m16\u001B[39m  \u001B[38;5;66;03m# DFL channels (ch[0] // 16 to scale 4/8/12/16/20 for n/s/m/l/x)\u001B[39;00m\n\u001B[1;32m     35\u001B[0m \u001B[38;5;28mself\u001B[39m\u001B[38;5;241m.\u001B[39mno \u001B[38;5;241m=\u001B[39m nc \u001B[38;5;241m+\u001B[39m \u001B[38;5;28mself\u001B[39m\u001B[38;5;241m.\u001B[39mreg_max \u001B[38;5;241m*\u001B[39m \u001B[38;5;241m4\u001B[39m  \u001B[38;5;66;03m# number of outputs per anchor\u001B[39;00m\n",
      "\u001B[0;31mTypeError\u001B[0m: object of type 'int' has no len()"
     ]
    }
   ],
   "source": [
    "from ultralytics.nn.modules.head import Pose\n",
    "from torchinfo import summary\n",
    "\n",
    "\n",
    "model = Pose()"
   ],
   "metadata": {
    "collapsed": false
   }
  },
  {
   "cell_type": "code",
   "execution_count": 6,
   "outputs": [
    {
     "data": {
      "text/plain": "ultralytics.nn.tasks.PoseModel"
     },
     "execution_count": 6,
     "metadata": {},
     "output_type": "execute_result"
    }
   ],
   "source": [
    "type(model_x)"
   ],
   "metadata": {
    "collapsed": false
   }
  },
  {
   "cell_type": "code",
   "execution_count": 22,
   "outputs": [
    {
     "name": "stderr",
     "output_type": "stream",
     "text": [
      "\u001B[34m\u001B[1mwandb\u001B[0m: Logging into wandb.ai. (Learn how to deploy a W&B server locally: https://wandb.me/wandb-server)\n",
      "\u001B[34m\u001B[1mwandb\u001B[0m: You can find your API key in your browser here: https://wandb.ai/authorize\n",
      "\u001B[34m\u001B[1mwandb\u001B[0m: Paste an API key from your profile and hit enter, or press ctrl+c to quit:\u001B[34m\u001B[1mwandb\u001B[0m: Appending key for api.wandb.ai to your netrc file: /home/rjaikanth97/.netrc\n"
     ]
    },
    {
     "data": {
      "text/plain": "True"
     },
     "execution_count": 22,
     "metadata": {},
     "output_type": "execute_result"
    }
   ],
   "source": [
    "import wandb\n",
    "wandb.login()\n"
   ],
   "metadata": {
    "collapsed": false
   }
  },
  {
   "cell_type": "code",
   "execution_count": 27,
   "outputs": [
    {
     "data": {
      "text/plain": "             run               tag  step    value\n0    YOLOv8N SGD  metrics/mAP50(B)     1  0.99045\n1    YOLOv8N SGD  metrics/mAP50(B)     2  0.98791\n2    YOLOv8N SGD  metrics/mAP50(B)     3  0.98546\n3    YOLOv8N SGD  metrics/mAP50(B)     4  0.99146\n4    YOLOv8N SGD  metrics/mAP50(B)     5  0.99026\n..           ...               ...   ...      ...\n306  YOLOv8N SGD     val/pose_loss    13  2.68378\n307  YOLOv8N SGD     val/pose_loss    14  2.65872\n308  YOLOv8N SGD     val/pose_loss    15  2.63932\n309  YOLOv8N SGD     val/pose_loss    16  2.62139\n310  YOLOv8N SGD     val/pose_loss    17  2.61070\n\n[311 rows x 4 columns]",
      "text/html": "<div>\n<style scoped>\n    .dataframe tbody tr th:only-of-type {\n        vertical-align: middle;\n    }\n\n    .dataframe tbody tr th {\n        vertical-align: top;\n    }\n\n    .dataframe thead th {\n        text-align: right;\n    }\n</style>\n<table border=\"1\" class=\"dataframe\">\n  <thead>\n    <tr style=\"text-align: right;\">\n      <th></th>\n      <th>run</th>\n      <th>tag</th>\n      <th>step</th>\n      <th>value</th>\n    </tr>\n  </thead>\n  <tbody>\n    <tr>\n      <th>0</th>\n      <td>YOLOv8N SGD</td>\n      <td>metrics/mAP50(B)</td>\n      <td>1</td>\n      <td>0.99045</td>\n    </tr>\n    <tr>\n      <th>1</th>\n      <td>YOLOv8N SGD</td>\n      <td>metrics/mAP50(B)</td>\n      <td>2</td>\n      <td>0.98791</td>\n    </tr>\n    <tr>\n      <th>2</th>\n      <td>YOLOv8N SGD</td>\n      <td>metrics/mAP50(B)</td>\n      <td>3</td>\n      <td>0.98546</td>\n    </tr>\n    <tr>\n      <th>3</th>\n      <td>YOLOv8N SGD</td>\n      <td>metrics/mAP50(B)</td>\n      <td>4</td>\n      <td>0.99146</td>\n    </tr>\n    <tr>\n      <th>4</th>\n      <td>YOLOv8N SGD</td>\n      <td>metrics/mAP50(B)</td>\n      <td>5</td>\n      <td>0.99026</td>\n    </tr>\n    <tr>\n      <th>...</th>\n      <td>...</td>\n      <td>...</td>\n      <td>...</td>\n      <td>...</td>\n    </tr>\n    <tr>\n      <th>306</th>\n      <td>YOLOv8N SGD</td>\n      <td>val/pose_loss</td>\n      <td>13</td>\n      <td>2.68378</td>\n    </tr>\n    <tr>\n      <th>307</th>\n      <td>YOLOv8N SGD</td>\n      <td>val/pose_loss</td>\n      <td>14</td>\n      <td>2.65872</td>\n    </tr>\n    <tr>\n      <th>308</th>\n      <td>YOLOv8N SGD</td>\n      <td>val/pose_loss</td>\n      <td>15</td>\n      <td>2.63932</td>\n    </tr>\n    <tr>\n      <th>309</th>\n      <td>YOLOv8N SGD</td>\n      <td>val/pose_loss</td>\n      <td>16</td>\n      <td>2.62139</td>\n    </tr>\n    <tr>\n      <th>310</th>\n      <td>YOLOv8N SGD</td>\n      <td>val/pose_loss</td>\n      <td>17</td>\n      <td>2.61070</td>\n    </tr>\n  </tbody>\n</table>\n<p>311 rows × 4 columns</p>\n</div>"
     },
     "execution_count": 27,
     "metadata": {},
     "output_type": "execute_result"
    }
   ],
   "source": [
    "import tensorboard as tb\n",
    "import pandas as pd\n",
    "\n",
    "dfs = []\n",
    "exps = ['zrp6PvaDSLKZ3MnaqOSA9g']\n",
    "\n",
    "exp = exps[0]\n",
    "exp = tb.data.experimental.ExperimentFromDev(exp)\n",
    "exp.get_scalars()\n",
    "# for exp in exps:\n",
    "#\n",
    "#     dfs.append(tb.data.experimental.ExperimentFromDev(exp).get_scalars())\n",
    "# dfs\n"
   ],
   "metadata": {
    "collapsed": false
   }
  }
 ],
 "metadata": {
  "kernelspec": {
   "display_name": "Python 3",
   "language": "python",
   "name": "python3"
  },
  "language_info": {
   "codemirror_mode": {
    "name": "ipython",
    "version": 2
   },
   "file_extension": ".py",
   "mimetype": "text/x-python",
   "name": "python",
   "nbconvert_exporter": "python",
   "pygments_lexer": "ipython2",
   "version": "2.7.6"
  }
 },
 "nbformat": 4,
 "nbformat_minor": 0
}
