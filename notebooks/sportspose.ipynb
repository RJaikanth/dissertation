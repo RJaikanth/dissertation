{
 "cells": [
  {
   "cell_type": "code",
   "execution_count": 1,
   "outputs": [
    {
     "data": {
      "text/plain": "176580"
     },
     "execution_count": 1,
     "metadata": {},
     "output_type": "execute_result"
    }
   ],
   "source": [
    "from sportspose.dataset import SportsPoseDataset\n",
    "import numpy as np\n",
    "\n",
    "def sampling_fn(measurements, index):\n",
    "    indices = [k for k in measurements.keys() if k % 5 == 0]\n",
    "    choice = np.random.choice(indices)\n",
    "    return measurements[choice]\n",
    "\n",
    "\n",
    "ds = SportsPoseDataset(data_dir = \"../dataset/SportsPose\", sample_level = \"frame\", sample_method = sampling_fn)\n",
    "len(ds)\n",
    "# sample = next(iter(ds))\n",
    "# sample.keys()"
   ],
   "metadata": {
    "collapsed": false
   }
  },
  {
   "cell_type": "code",
   "execution_count": 3,
   "outputs": [
    {
     "data": {
      "text/plain": "29430.0"
     },
     "execution_count": 3,
     "metadata": {},
     "output_type": "execute_result"
    }
   ],
   "source": [
    "176580 / 6"
   ],
   "metadata": {
    "collapsed": false
   }
  },
  {
   "cell_type": "code",
   "execution_count": 2,
   "outputs": [
    {
     "ename": "NameError",
     "evalue": "name 'get_bbox' is not defined",
     "output_type": "error",
     "traceback": [
      "\u001B[0;31m---------------------------------------------------------------------------\u001B[0m",
      "\u001B[0;31mNameError\u001B[0m                                 Traceback (most recent call last)",
      "Cell \u001B[0;32mIn[2], line 7\u001B[0m\n\u001B[1;32m      5\u001B[0m frame \u001B[38;5;241m=\u001B[39m sample[\u001B[38;5;124m'\u001B[39m\u001B[38;5;124mvideo\u001B[39m\u001B[38;5;124m'\u001B[39m][\u001B[38;5;124m'\u001B[39m\u001B[38;5;124mimage\u001B[39m\u001B[38;5;124m'\u001B[39m][\u001B[38;5;124m'\u001B[39m\u001B[38;5;124mright\u001B[39m\u001B[38;5;124m'\u001B[39m][\u001B[38;5;241m0\u001B[39m]\n\u001B[1;32m      6\u001B[0m file_name \u001B[38;5;241m=\u001B[39m sample[\u001B[38;5;124m'\u001B[39m\u001B[38;5;124mvideo\u001B[39m\u001B[38;5;124m'\u001B[39m][\u001B[38;5;124m'\u001B[39m\u001B[38;5;124mright\u001B[39m\u001B[38;5;124m'\u001B[39m][\u001B[38;5;124m'\u001B[39m\u001B[38;5;124mpath\u001B[39m\u001B[38;5;124m'\u001B[39m][\u001B[38;5;124m'\u001B[39m\u001B[38;5;124mright\u001B[39m\u001B[38;5;124m'\u001B[39m][\u001B[38;5;241m0\u001B[39m]\n\u001B[0;32m----> 7\u001B[0m bbox \u001B[38;5;241m=\u001B[39m \u001B[43mget_bbox\u001B[49m(joints)\n\u001B[1;32m      8\u001B[0m plt\u001B[38;5;241m.\u001B[39mimshow(frame)\n\u001B[1;32m      9\u001B[0m plt\u001B[38;5;241m.\u001B[39mscatter(joints[:, \u001B[38;5;241m0\u001B[39m], joints[:, \u001B[38;5;241m1\u001B[39m], s\u001B[38;5;241m=\u001B[39m\u001B[38;5;241m5\u001B[39m, c\u001B[38;5;241m=\u001B[39m\u001B[38;5;124m'\u001B[39m\u001B[38;5;124mred\u001B[39m\u001B[38;5;124m'\u001B[39m)\n",
      "\u001B[0;31mNameError\u001B[0m: name 'get_bbox' is not defined"
     ]
    }
   ],
   "source": [
    "import matplotlib.pyplot as plt\n",
    "\n",
    "# Original\n",
    "joints = sample['joints_2d']['right'][0]\n",
    "frame = sample['video']['image']['right'][0]\n",
    "file_name = sample['video']['right']['path']['right'][0]\n",
    "bbox = get_bbox(joints)\n",
    "plt.imshow(frame)\n",
    "plt.scatter(joints[:, 0], joints[:, 1], s=5, c='red')\n",
    "plt.scatter(bbox[0::2], bbox[1::2], s=30, c='blue')\n",
    "plt.show()\n",
    "\n",
    "import albumentations as A\n",
    "resize_transform = A.Compose(\n",
    "            [A.Resize(640, 640, p = 1, always_apply = True)],\n",
    "            keypoint_params = A.KeypointParams(\"xy\"),\n",
    "            bbox_params = A.BboxParams(\"pascal_voc\")\n",
    "        )\n",
    "# Resized\n",
    "bbox.append(\"0\")\n",
    "transformed = resize_transform(image=frame, keypoints=joints, bboxes=[bbox])\n",
    "frame = transformed['image']\n",
    "joints = np.asarray([list(row) for row in transformed['keypoints']])\n",
    "bbox = transformed['bboxes'][0][:-1]\n",
    "plt.imshow(frame)\n",
    "plt.scatter(joints[:, 0], joints[:, 1], s=5, c='red')\n",
    "plt.scatter(bbox[0::2], bbox[1::2], s=30, c='blue')\n",
    "plt.show()"
   ],
   "metadata": {
    "collapsed": false
   }
  },
  {
   "cell_type": "code",
   "execution_count": null,
   "outputs": [],
   "source": [
    "import glob\n",
    "ROOT =\n",
    "videos = glob.glob(\"\")\n"
   ],
   "metadata": {
    "collapsed": false
   }
  }
 ],
 "metadata": {
  "kernelspec": {
   "display_name": "Python 3",
   "language": "python",
   "name": "python3"
  },
  "language_info": {
   "codemirror_mode": {
    "name": "ipython",
    "version": 2
   },
   "file_extension": ".py",
   "mimetype": "text/x-python",
   "name": "python",
   "nbconvert_exporter": "python",
   "pygments_lexer": "ipython2",
   "version": "2.7.6"
  }
 },
 "nbformat": 4,
 "nbformat_minor": 0
}
